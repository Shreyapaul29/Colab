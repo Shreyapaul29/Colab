{
  "nbformat": 4,
  "nbformat_minor": 0,
  "metadata": {
    "colab": {
      "provenance": []
    },
    "kernelspec": {
      "name": "python3",
      "display_name": "Python 3"
    },
    "language_info": {
      "name": "python"
    }
  },
  "cells": [
    {
      "cell_type": "code",
      "execution_count": 13,
      "metadata": {
        "colab": {
          "base_uri": "https://localhost:8080/"
        },
        "id": "xxbdoZmD8O1B",
        "outputId": "c6ed9060-cd73-4841-eef4-8eca65861f0d"
      },
      "outputs": [
        {
          "output_type": "stream",
          "name": "stdout",
          "text": [
            "Drive already mounted at /content/drive; to attempt to forcibly remount, call drive.mount(\"/content/drive\", force_remount=True).\n",
            "Dataset Preview:\n",
            "   index  ground_clearance  height category\n",
            "0      1               225    1737      suv\n",
            "1      2               232    1742      suv\n",
            "2      3               175    1472    sedan\n",
            "3      4               168    1375    sedan\n",
            "4      5               222    1710      suv\n",
            "Training features (X_train):\n",
            "    index  ground_clearance  height\n",
            "11     12               178    1465\n",
            "3       4               168    1375\n",
            "4       5               222    1710\n",
            "17     18               176    1468\n",
            "12     13               168    1370\n",
            "18     19               174    1475\n",
            "16     17               240    1872\n",
            "2       3               175    1472\n",
            "9      10               232    1758\n",
            "21     22               205    1690\n",
            "7       8               218    1695\n",
            "10     11               166    1291\n",
            "14     15               212    1685\n",
            "19     20               205    1690\n",
            "6       7               210    1690\n",
            "Model Accuracy: 85.71%\n"
          ]
        }
      ],
      "source": [
        "\n",
        "from google.colab import drive\n",
        "drive.mount(\"/content/drive\")\n",
        "import pandas as pd\n",
        "df = pd.read_excel(\"/content/drive/My Drive/Colab Notebooks/Copy of SET-9.xlsx\")\n",
        "print(\"Dataset Preview:\")\n",
        "print(df.head())\n",
        "\n",
        "from sklearn.model_selection import train_test_split\n",
        "X = df.iloc[:, :-1]\n",
        "y = df.iloc[:, -1]\n",
        "X_train, X_test, y_train, y_test = train_test_split(X, y, test_size=0.30, random_state=42)\n",
        "print(\"Training features (X_train):\")\n",
        "print(X_train)\n",
        "\n",
        "from sklearn.linear_model import LogisticRegression\n",
        "model = LogisticRegression(max_iter=1000)\n",
        "model.fit(X_train, y_train)\n",
        "\n",
        "from sklearn.metrics import accuracy_score\n",
        "y_pred = model.predict(X_test)\n",
        "accuracy = accuracy_score(y_test, y_pred)\n",
        "print(f\"Model Accuracy: {accuracy * 100:.2f}%\")"
      ]
    }
  ]
}